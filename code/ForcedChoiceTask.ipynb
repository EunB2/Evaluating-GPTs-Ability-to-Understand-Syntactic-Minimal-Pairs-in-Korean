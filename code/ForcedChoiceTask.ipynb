{
 "cells": [
  {
   "cell_type": "code",
   "execution_count": null,
   "metadata": {
    "id": "RFXFW-XdZ-Yl"
   },
   "outputs": [],
   "source": [
    "!pip install httpx==0.27.2"
   ]
  },
  {
   "cell_type": "code",
   "execution_count": null,
   "metadata": {
    "id": "RFXFW-XdZ-Yl"
   },
   "outputs": [],
   "source": [
    "!pip install -q openai"
   ]
  },
  {
   "cell_type": "code",
   "execution_count": null,
   "metadata": {
    "id": "YnYZO7BzaZyO"
   },
   "outputs": [],
   "source": [
    "import openai\n",
    "from openai import OpenAI,OpenAIError\n",
    "import pandas as pd\n",
    "import os\n",
    "os.environ[\"OPENAI_API_KEY\"] = \"MYAPI키입력\""
   ]
  },
  {
   "cell_type": "code",
   "execution_count": null,
   "metadata": {
    "id": "Y5IxB2U1hG8u"
   },
   "outputs": [],
   "source": [
    "import openai\n",
    "import pandas as pd\n",
    "import os\n",
    "import re\n",
    "\n",
    "client = OpenAI(\n",
    "    api_key=os.environ.get(\"OPENAI_API_KEY\"),\n",
    ")\n",
    "\n",
    "def evaluate_sentences(messages):\n",
    "    response = client.chat.completions.create(\n",
    "        model=\"gpt모델이름\",  #gpt모델이름 입력\n",
    "        messages=messages,\n",
    "        max_tokens=200,\n",
    "        n=1,\n",
    "        stop=None,\n",
    "        temperature=1,\n",
    "    )\n",
    "    return response.choices[0].message.content.strip()\n",
    "\n",
    "#선택 답변과 이유 분리\n",
    "def split_response(response):\n",
    "    parts = re.split(r'\\n\\n|\\n', response, maxsplit=1)\n",
    "    if len(parts) > 1:\n",
    "        return parts[0].strip(), parts[1].strip()\n",
    "    else:\n",
    "        return response.strip(), \"\"\n",
    "\n",
    "def run_experiment(input_file, output_file):\n",
    "    # 엑셀 파일에서 문장 쌍 읽기\n",
    "    df = pd.read_excel(input_file)\n",
    "\n",
    "    results = []\n",
    "\n",
    "    for index, row in df.iterrows():\n",
    "        sentence_A = row['sentence_A']\n",
    "        sentence_B = row['sentence_B']\n",
    "\n",
    "        # 공통 질문\n",
    "        common_prompt = (\n",
    "            \"당신은 한국어를 모국어로 하는 화자이다. \"\n",
    "            \"주어진 문장 2개의 수용성을 차례차례 단계적으로 판단하여 답변을 해라.\"\n",
    "            \"여기서 수용성(acceptability)은 특정 언어 표현이나 문장이 그 언어의 화자들에 의해 자연스럽고 올바른 것으로 받아들여지는 정도를 의미한다.\"\n",
    "                    )\n",
    "\n",
    "        #각 질문의 결과는 다른 질문에 영향을 주지 않음\n",
    "        # 1번질문: 더 수용성이 좋은 문장 선택 및 이유 묻기 (A/B)\n",
    "        prompt_1 = [\n",
    "            {\"role\": \"system\", \"content\": common_prompt},\n",
    "            {\"role\": \"user\", \"content\": f\"다음 중 더 수용성이 좋은 문장은 무엇인가? 오직 'A' 또는 'B'라고만 답하시오.\\n\\nA. {sentence_A}\\nB. {sentence_B}\\n\\n그렇게 판단한 이유는 무엇인가?\"}\n",
    "        ]\n",
    "        response_1_full = evaluate_sentences(prompt_1)\n",
    "        response_1, response_1_reason = split_response(response_1_full)\n",
    "\n",
    "        # 2번질문: 더 수용성이 좋은 문장 선택 및 이유 묻기\n",
    "        prompt_2 = [\n",
    "            {\"role\": \"system\", \"content\": common_prompt},\n",
    "            {\"role\": \"user\", \"content\": f\"다음 중 더 수용성이 좋은 문장은 무엇인가? 둘 중 하나를 정확히 반복하여 답만 제시하시오.\\n\\nA. {sentence_A}\\nB. {sentence_B}\\n\\n그렇게 판단한 이유는 무엇인가?\"}\n",
    "        ]\n",
    "        response_2_full = evaluate_sentences(prompt_2)\n",
    "        response_2, response_2_reason = split_response(response_2_full)\n",
    "\n",
    "        # 3번질문: 문장 수용성 비교 및 이유 묻기 (예/아니오)\n",
    "        prompt_3 = [\n",
    "            {\"role\": \"system\", \"content\": common_prompt},\n",
    "            {\"role\": \"user\", \"content\": f\"\\\"{sentence_A}\\\"가 \\\"{sentence_B}\\\"보다 더 수용성이 좋은 문장인가? 오직 '예' 또는 '아니요'라고만 답하시오.\\n\\n그렇게 판단한 이유는 무엇인가?\"}\n",
    "        ]\n",
    "        response_3_full = evaluate_sentences(prompt_3)\n",
    "        response_3, response_3_reason = split_response(response_3_full)\n",
    "\n",
    "        # 결과 저장\n",
    "        results.append({\n",
    "            \"id\": row['id'],\n",
    "            \"sentence_A\": sentence_A,\n",
    "            \"sentence_B\": sentence_B,\n",
    "            \"gold_label\": row['gold_label'],\n",
    "            \"1단계 응답\": response_1,\n",
    "            \"1단계 이유\": response_1_reason,\n",
    "            \"2단계 응답\": response_2,\n",
    "            \"2단계 이유\": response_2_reason,\n",
    "            \"3단계 응답\": response_3,\n",
    "            \"3단계 이유\": response_3_reason,\n",
    "        })\n",
    "\n",
    "    # 결과를 데이터프레임으로 변환\n",
    "    results_df = pd.DataFrame(results)\n",
    "\n",
    "    # 결과를 엑셀 파일로 저장\n",
    "    results_df.to_excel(output_file, index=False)\n",
    "\n",
    "# 실험 실행\n",
    "input_file = '입력파일경로.xlsx'  # 입력 엑셀 파일 경로\n",
    "output_file = '출력파일경로.xlsx'  # 출력 엑셀 파일 경로\n",
    "run_experiment(input_file, output_file)"
   ]
  }
 ],
 "metadata": {
  "accelerator": "GPU",
  "colab": {
   "gpuType": "L4",
   "machine_shape": "hm",
   "provenance": []
  },
  "kernelspec": {
   "display_name": "Python 3",
   "name": "python3"
  },
  "language_info": {
   "name": "python"
  }
 },
 "nbformat": 4,
 "nbformat_minor": 0
}
