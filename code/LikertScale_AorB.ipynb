{
 "cells": [
  {
   "cell_type": "code",
   "execution_count": null,
   "metadata": {
    "colab": {
     "base_uri": "https://localhost:8080/"
    },
    "id": "RFXFW-XdZ-Yl",
    "outputId": "08a8ab03-c068-491d-c7f2-1d747b5e7e0f"
   },
   "outputs": [],
   "source": [
    "!pip install -q openai"
   ]
  },
  {
   "cell_type": "code",
   "execution_count": null,
   "metadata": {
    "id": "YnYZO7BzaZyO"
   },
   "outputs": [],
   "source": [
    "import openai\n",
    "from openai import OpenAI,OpenAIError\n",
    "import pandas as pd\n",
    "import os\n",
    "os.environ[\"OPENAI_API_KEY\"] = \"MyAPI키입력\""
   ]
  },
  {
   "cell_type": "code",
   "execution_count": null,
   "metadata": {
    "id": "Y5IxB2U1hG8u"
   },
   "outputs": [],
   "source": [
    "import openai\n",
    "import pandas as pd\n",
    "import os\n",
    "import re\n",
    "\n",
    "client = OpenAI(\n",
    "    api_key=os.environ.get(\"OPENAI_API_KEY\"),\n",
    ")\n",
    "\n",
    "def split_response(response):\n",
    "    # 줄바꿈 한 번 또는 두 번을 기준으로 분리\n",
    "    parts = re.split(r'\\n\\n|\\n', response, maxsplit=1)\n",
    "    if len(parts) > 1:\n",
    "        response_part = parts[0].strip()\n",
    "        reason_part = parts[1].strip()\n",
    "    else:\n",
    "        response_part = response.strip()\n",
    "        reason_part = \"\"\n",
    "\n",
    "    return response_part, reason_part\n",
    "\n",
    "def evaluate_sentences(messages):\n",
    "    response = client.chat.completions.create(\n",
    "        model=\"gpt모델이름\",  # gpt모델이름입력\n",
    "        messages=messages,\n",
    "        max_tokens=200,\n",
    "        n=1,\n",
    "        stop=None,\n",
    "        temperature=1,\n",
    "    )\n",
    "    return response.choices[0].message.content.strip()\n",
    "\n",
    "\n",
    "\n",
    "def run_experiment(input_file, output_file):\n",
    "    # 엑셀 파일에서 문장 읽기\n",
    "    df = pd.read_excel(input_file)\n",
    "\n",
    "    results = []\n",
    "\n",
    "    for index, row in df.iterrows():\n",
    "        sentence = row['sentence']\n",
    "\n",
    "        # 공통 질문\n",
    "        common_prompt = (\n",
    "            \"당신은 한국어를 모국어로 하는 화자이다. 주어진 문장을 읽고 그 문장의 수용성을 아래의 척도를 사용하여 응답하라. \"\n",
    "            \"여기서 수용성(acceptability)이란 특정 언어 표현이나 문장이 그 언어의 화자들에 의해 자연스럽고 올바른 것으로 받아들여지는 정도를 의미한다.\"\n",
    "            \"확실하지 않더라도 문장을 읽고 척도의 번호로만 응답하라.\\n\\n\"\n",
    "            \"1 = 전혀 수용 불가능함\\n\"\n",
    "            \"2 = 수용 불가능함\\n\"\n",
    "            \"3 = 보통임\\n\"\n",
    "            \"4 = 수용 가능함\\n\"\n",
    "            \"5 = 매우 수용 가능함\\n\"\n",
    "                    )\n",
    "\n",
    "        messages = [\n",
    "            {\"role\": \"system\", \"content\": common_prompt},\n",
    "            {\"role\": \"user\", \"content\": f\"문장: {sentence}\\n\\n응답:\\n\\n그렇게 판단한 이유는 무엇인가?\"}\n",
    "        ]\n",
    "        response_full = evaluate_sentences(messages)\n",
    "        response, reason = split_response(response_full)\n",
    "\n",
    "        # 결과 저장\n",
    "        results.append({\n",
    "            \"id\": row['id'],\n",
    "            \"sentence\": sentence,\n",
    "            \"gold_label\": row['gold_label'],\n",
    "            \"응답\": response,\n",
    "            \"이유\": reason,\n",
    "\n",
    "        })\n",
    "\n",
    "    # 결과를 데이터프레임으로 변환\n",
    "    results_df = pd.DataFrame(results)\n",
    "\n",
    "    # 결과를 엑셀 파일로 저장\n",
    "    results_df.to_excel(output_file, index=False)\n",
    "\n",
    "# 실험 실행\n",
    "input_file = '입력파일경로.xlsx'  # 입력 엑셀 파일 경로\n",
    "output_file = '출력파일경로.xlsx'  # 출력 엑셀 파일 경로\n",
    "run_experiment(input_file, output_file)"
   ]
  }
 ],
 "metadata": {
  "accelerator": "GPU",
  "colab": {
   "gpuType": "A100",
   "machine_shape": "hm",
   "provenance": []
  },
  "kernelspec": {
   "display_name": "Python 3",
   "name": "python3"
  },
  "language_info": {
   "name": "python"
  }
 },
 "nbformat": 4,
 "nbformat_minor": 0
}
